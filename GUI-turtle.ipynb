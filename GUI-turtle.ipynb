{
 "cells": [
  {
   "cell_type": "code",
   "execution_count": null,
   "metadata": {
    "collapsed": true
   },
   "outputs": [],
   "source": [
    "from turtle import *\n",
    "color('red', 'yellow')\n",
    "begin_fill()\n",
    "while True:\n",
    "    forward(200)\n",
    "    left(170)\n",
    "    if abs(pos()) < 1:\n",
    "        break\n",
    "end_fill()\n",
    "done()"
   ]
  },
  {
   "cell_type": "code",
   "execution_count": null,
   "metadata": {},
   "outputs": [],
   "source": [
    "import  turtle\n",
    "\n",
    "t = turtle.getturtle()\n",
    "\n",
    "print(t)\n",
    "\n",
    "t.circle(5)"
   ]
  },
  {
   "cell_type": "code",
   "execution_count": null,
   "metadata": {},
   "outputs": [],
   "source": [
    "from turtle import Turtle, Screen\n",
    "\n",
    "turtle =  Turtle()\n",
    "\n",
    "screen = Screen()\n",
    "screen.exitonclick()\n",
    "# print(turtle)"
   ]
  },
  {
   "cell_type": "code",
   "execution_count": null,
   "metadata": {
    "scrolled": true
   },
   "outputs": [],
   "source": [
    "from turtle import Turtle, Screen\n",
    "\n",
    "my_turtle = Turtle()"
   ]
  },
  {
   "cell_type": "code",
   "execution_count": null,
   "metadata": {},
   "outputs": [],
   "source": [
    "from turtle import Turtle, Screen\n",
    "\n",
    "# Draw a Square\n",
    "\n",
    "t = Turtle()\n",
    "\n",
    "for _ in range(4):\n",
    "    t.forward(100)\n",
    "    t.right(90)\n",
    "\n",
    "Screen().exitonclick()"
   ]
  },
  {
   "cell_type": "code",
   "execution_count": 1,
   "outputs": [],
   "source": [
    "# Draw a Pentagon\n",
    "from turtle import Turtle, Screen\n",
    "t1 = Turtle()\n",
    "\n",
    "side = 5\n",
    "for _ in range(5):\n",
    "    t1.forward(100)\n",
    "    t1.right(360/side)\n",
    "\n",
    "screen = Screen()\n",
    "screen.exitonclick()"
   ],
   "metadata": {
    "collapsed": false
   }
  },
  {
   "cell_type": "code",
   "execution_count": null,
   "outputs": [],
   "source": [],
   "metadata": {
    "collapsed": false
   }
  },
  {
   "cell_type": "code",
   "execution_count": null,
   "outputs": [],
   "source": [
    "from turtle import  Turtle\n",
    "t = Turtle()\n",
    "t_turn = {'right': t.right(90), 'left': t.left(90)}\n",
    "\n",
    "print(t_turn['right'])"
   ],
   "metadata": {
    "collapsed": false
   }
  },
  {
   "cell_type": "code",
   "execution_count": 2,
   "outputs": [
    {
     "name": "stdout",
     "output_type": "stream",
     "text": [
      "1.0\n",
      "None\n"
     ]
    },
    {
     "ename": "TurtleGraphicsError",
     "evalue": "bad color sequence: (100, 150, 150)",
     "output_type": "error",
     "traceback": [
      "\u001B[1;31m---------------------------------------------------------------------------\u001B[0m",
      "\u001B[1;31mTurtleGraphicsError\u001B[0m                       Traceback (most recent call last)",
      "Cell \u001B[1;32mIn [2], line 9\u001B[0m\n\u001B[0;32m      6\u001B[0m Screen()\u001B[38;5;241m.\u001B[39mcolormode(\u001B[38;5;241m225\u001B[39m)\n\u001B[0;32m      7\u001B[0m \u001B[38;5;28mprint\u001B[39m(Screen()\u001B[38;5;241m.\u001B[39mcolormode(\u001B[38;5;241m225\u001B[39m))\n\u001B[1;32m----> 9\u001B[0m \u001B[43mt1\u001B[49m\u001B[38;5;241;43m.\u001B[39;49m\u001B[43mpencolor\u001B[49m\u001B[43m(\u001B[49m\u001B[43m(\u001B[49m\u001B[38;5;241;43m100\u001B[39;49m\u001B[43m,\u001B[49m\u001B[38;5;241;43m150\u001B[39;49m\u001B[43m,\u001B[49m\u001B[43m \u001B[49m\u001B[38;5;241;43m150\u001B[39;49m\u001B[43m)\u001B[49m\u001B[43m)\u001B[49m\n\u001B[0;32m     10\u001B[0m t1\u001B[38;5;241m.\u001B[39mcircle(\u001B[38;5;241m100\u001B[39m)\n\u001B[0;32m     13\u001B[0m Screen()\u001B[38;5;241m.\u001B[39mexitonclick()\n",
      "File \u001B[1;32m~\\AppData\\Local\\Programs\\Python\\Python311\\Lib\\turtle.py:2254\u001B[0m, in \u001B[0;36mTPen.pencolor\u001B[1;34m(self, *args)\u001B[0m\n\u001B[0;32m   2225\u001B[0m \u001B[38;5;124;03m\"\"\" Return or set the pencolor.\u001B[39;00m\n\u001B[0;32m   2226\u001B[0m \n\u001B[0;32m   2227\u001B[0m \u001B[38;5;124;03mArguments:\u001B[39;00m\n\u001B[1;32m   (...)\u001B[0m\n\u001B[0;32m   2251\u001B[0m \u001B[38;5;124;03m'#33cc8c'\u001B[39;00m\n\u001B[0;32m   2252\u001B[0m \u001B[38;5;124;03m\"\"\"\u001B[39;00m\n\u001B[0;32m   2253\u001B[0m \u001B[38;5;28;01mif\u001B[39;00m args:\n\u001B[1;32m-> 2254\u001B[0m     color \u001B[38;5;241m=\u001B[39m \u001B[38;5;28;43mself\u001B[39;49m\u001B[38;5;241;43m.\u001B[39;49m\u001B[43m_colorstr\u001B[49m\u001B[43m(\u001B[49m\u001B[43margs\u001B[49m\u001B[43m)\u001B[49m\n\u001B[0;32m   2255\u001B[0m     \u001B[38;5;28;01mif\u001B[39;00m color \u001B[38;5;241m==\u001B[39m \u001B[38;5;28mself\u001B[39m\u001B[38;5;241m.\u001B[39m_pencolor:\n\u001B[0;32m   2256\u001B[0m         \u001B[38;5;28;01mreturn\u001B[39;00m\n",
      "File \u001B[1;32m~\\AppData\\Local\\Programs\\Python\\Python311\\Lib\\turtle.py:2698\u001B[0m, in \u001B[0;36mRawTurtle._colorstr\u001B[1;34m(self, args)\u001B[0m\n\u001B[0;32m   2697\u001B[0m \u001B[38;5;28;01mdef\u001B[39;00m \u001B[38;5;21m_colorstr\u001B[39m(\u001B[38;5;28mself\u001B[39m, args):\n\u001B[1;32m-> 2698\u001B[0m     \u001B[38;5;28;01mreturn\u001B[39;00m \u001B[38;5;28;43mself\u001B[39;49m\u001B[38;5;241;43m.\u001B[39;49m\u001B[43mscreen\u001B[49m\u001B[38;5;241;43m.\u001B[39;49m\u001B[43m_colorstr\u001B[49m\u001B[43m(\u001B[49m\u001B[43margs\u001B[49m\u001B[43m)\u001B[49m\n",
      "File \u001B[1;32m~\\AppData\\Local\\Programs\\Python\\Python311\\Lib\\turtle.py:1168\u001B[0m, in \u001B[0;36mTurtleScreen._colorstr\u001B[1;34m(self, color)\u001B[0m\n\u001B[0;32m   1166\u001B[0m     r, g, b \u001B[38;5;241m=\u001B[39m [\u001B[38;5;28mround\u001B[39m(\u001B[38;5;241m255.0\u001B[39m\u001B[38;5;241m*\u001B[39mx) \u001B[38;5;28;01mfor\u001B[39;00m x \u001B[38;5;129;01min\u001B[39;00m (r, g, b)]\n\u001B[0;32m   1167\u001B[0m \u001B[38;5;28;01mif\u001B[39;00m \u001B[38;5;129;01mnot\u001B[39;00m ((\u001B[38;5;241m0\u001B[39m \u001B[38;5;241m<\u001B[39m\u001B[38;5;241m=\u001B[39m r \u001B[38;5;241m<\u001B[39m\u001B[38;5;241m=\u001B[39m \u001B[38;5;241m255\u001B[39m) \u001B[38;5;129;01mand\u001B[39;00m (\u001B[38;5;241m0\u001B[39m \u001B[38;5;241m<\u001B[39m\u001B[38;5;241m=\u001B[39m g \u001B[38;5;241m<\u001B[39m\u001B[38;5;241m=\u001B[39m \u001B[38;5;241m255\u001B[39m) \u001B[38;5;129;01mand\u001B[39;00m (\u001B[38;5;241m0\u001B[39m \u001B[38;5;241m<\u001B[39m\u001B[38;5;241m=\u001B[39m b \u001B[38;5;241m<\u001B[39m\u001B[38;5;241m=\u001B[39m \u001B[38;5;241m255\u001B[39m)):\n\u001B[1;32m-> 1168\u001B[0m     \u001B[38;5;28;01mraise\u001B[39;00m TurtleGraphicsError(\u001B[38;5;124m\"\u001B[39m\u001B[38;5;124mbad color sequence: \u001B[39m\u001B[38;5;132;01m%s\u001B[39;00m\u001B[38;5;124m\"\u001B[39m \u001B[38;5;241m%\u001B[39m \u001B[38;5;28mstr\u001B[39m(color))\n\u001B[0;32m   1169\u001B[0m \u001B[38;5;28;01mreturn\u001B[39;00m \u001B[38;5;124m\"\u001B[39m\u001B[38;5;124m#\u001B[39m\u001B[38;5;132;01m%02x\u001B[39;00m\u001B[38;5;132;01m%02x\u001B[39;00m\u001B[38;5;132;01m%02x\u001B[39;00m\u001B[38;5;124m\"\u001B[39m \u001B[38;5;241m%\u001B[39m (r, g, b)\n",
      "\u001B[1;31mTurtleGraphicsError\u001B[0m: bad color sequence: (100, 150, 150)"
     ]
    }
   ],
   "source": [
    "from turtle import Turtle, Screen\n",
    "\n",
    "t1 = Turtle()\n",
    "\n",
    "print(Screen().colormode())\n",
    "Screen().colormode(225)\n",
    "print(Screen().colormode(225))\n",
    "\n",
    "t1.pencolor((100,150, 150))\n",
    "t1.circle(100)\n",
    "\n",
    "\n",
    "Screen().exitonclick()"
   ],
   "metadata": {
    "collapsed": false
   }
  }
 ],
 "metadata": {
  "kernelspec": {
   "display_name": "Python 3 (ipykernel)",
   "language": "python",
   "name": "python3"
  },
  "language_info": {
   "codemirror_mode": {
    "name": "ipython",
    "version": 3
   },
   "file_extension": ".py",
   "mimetype": "text/x-python",
   "name": "python",
   "nbconvert_exporter": "python",
   "pygments_lexer": "ipython3",
   "version": "3.11.0"
  }
 },
 "nbformat": 4,
 "nbformat_minor": 1
}
